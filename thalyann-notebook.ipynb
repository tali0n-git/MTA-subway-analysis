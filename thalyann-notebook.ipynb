{
 "cells": [
  {
   "cell_type": "code",
   "execution_count": 2,
   "metadata": {},
   "outputs": [],
   "source": [
    "import pandas as pd"
   ]
  },
  {
   "cell_type": "markdown",
   "metadata": {},
   "source": [
    "### ANALYSIS OF MTA SUBWAY JUPYTER NOTEBOOK ###\n",
    "\n"
   ]
  },
  {
   "cell_type": "code",
   "execution_count": 4,
   "metadata": {},
   "outputs": [],
   "source": [
    "trip_updates = pd.read_csv('data/trip_updates.csv')\n",
    "vehicle_pos = pd.read_csv('data/vehicle_pos.csv')"
   ]
  },
  {
   "cell_type": "code",
   "execution_count": 5,
   "metadata": {},
   "outputs": [
    {
     "data": {
      "text/html": [
       "<div>\n",
       "<style scoped>\n",
       "    .dataframe tbody tr th:only-of-type {\n",
       "        vertical-align: middle;\n",
       "    }\n",
       "\n",
       "    .dataframe tbody tr th {\n",
       "        vertical-align: top;\n",
       "    }\n",
       "\n",
       "    .dataframe thead th {\n",
       "        text-align: right;\n",
       "    }\n",
       "</style>\n",
       "<table border=\"1\" class=\"dataframe\">\n",
       "  <thead>\n",
       "    <tr style=\"text-align: right;\">\n",
       "      <th></th>\n",
       "      <th>Unnamed: 0</th>\n",
       "      <th>trip_id</th>\n",
       "      <th>stop_sequence</th>\n",
       "      <th>arrival_time</th>\n",
       "      <th>departure_time</th>\n",
       "      <th>stop_id</th>\n",
       "    </tr>\n",
       "  </thead>\n",
       "  <tbody>\n",
       "    <tr>\n",
       "      <th>0</th>\n",
       "      <td>0</td>\n",
       "      <td>056200_A..N55R</td>\n",
       "      <td>0</td>\n",
       "      <td>1747667226</td>\n",
       "      <td>1747667226</td>\n",
       "      <td>A06N</td>\n",
       "    </tr>\n",
       "    <tr>\n",
       "      <th>1</th>\n",
       "      <td>1</td>\n",
       "      <td>056200_A..N55R</td>\n",
       "      <td>0</td>\n",
       "      <td>1747667297</td>\n",
       "      <td>1747667297</td>\n",
       "      <td>A05N</td>\n",
       "    </tr>\n",
       "    <tr>\n",
       "      <th>2</th>\n",
       "      <td>2</td>\n",
       "      <td>056200_A..N55R</td>\n",
       "      <td>0</td>\n",
       "      <td>1747667492</td>\n",
       "      <td>1747667492</td>\n",
       "      <td>A03N</td>\n",
       "    </tr>\n",
       "    <tr>\n",
       "      <th>3</th>\n",
       "      <td>3</td>\n",
       "      <td>056200_A..N55R</td>\n",
       "      <td>0</td>\n",
       "      <td>1747667657</td>\n",
       "      <td>1747667657</td>\n",
       "      <td>A02N</td>\n",
       "    </tr>\n",
       "    <tr>\n",
       "      <th>4</th>\n",
       "      <td>4</td>\n",
       "      <td>056700_A..S58R</td>\n",
       "      <td>0</td>\n",
       "      <td>1747667231</td>\n",
       "      <td>1747667231</td>\n",
       "      <td>H04S</td>\n",
       "    </tr>\n",
       "  </tbody>\n",
       "</table>\n",
       "</div>"
      ],
      "text/plain": [
       "   Unnamed: 0         trip_id  stop_sequence  arrival_time  departure_time  \\\n",
       "0           0  056200_A..N55R              0    1747667226      1747667226   \n",
       "1           1  056200_A..N55R              0    1747667297      1747667297   \n",
       "2           2  056200_A..N55R              0    1747667492      1747667492   \n",
       "3           3  056200_A..N55R              0    1747667657      1747667657   \n",
       "4           4  056700_A..S58R              0    1747667231      1747667231   \n",
       "\n",
       "  stop_id  \n",
       "0    A06N  \n",
       "1    A05N  \n",
       "2    A03N  \n",
       "3    A02N  \n",
       "4    H04S  "
      ]
     },
     "execution_count": 5,
     "metadata": {},
     "output_type": "execute_result"
    }
   ],
   "source": [
    "trip_updates.head()"
   ]
  }
 ],
 "metadata": {
  "kernelspec": {
   "display_name": "ds",
   "language": "python",
   "name": "python3"
  },
  "language_info": {
   "codemirror_mode": {
    "name": "ipython",
    "version": 3
   },
   "file_extension": ".py",
   "mimetype": "text/x-python",
   "name": "python",
   "nbconvert_exporter": "python",
   "pygments_lexer": "ipython3",
   "version": "3.12.9"
  }
 },
 "nbformat": 4,
 "nbformat_minor": 2
}
